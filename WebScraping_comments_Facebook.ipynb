{
 "cells": [
  {
   "cell_type": "markdown",
   "metadata": {},
   "source": [
    "# Instructions\n",
    "\n",
    "- Selenium will need to login to facebook; enter your credentials in the \"facebook_credentials.txt\" file, in the \"needed_files\" folder"
   ]
  },
  {
   "cell_type": "markdown",
   "metadata": {},
   "source": [
    "# Package import"
   ]
  },
  {
   "cell_type": "code",
   "execution_count": 1,
   "metadata": {},
   "outputs": [],
   "source": [
    "from selenium import webdriver\n",
    "from selenium.webdriver.chrome.options import Options\n",
    "from selenium.webdriver.support.ui import WebDriverWait, Select\n",
    "from selenium.webdriver.support import expected_conditions as EC\n",
    "from selenium.webdriver.common.by import By\n",
    "from selenium.webdriver.chrome.service import Service\n",
    "from selenium.webdriver.common.keys import Keys\n",
    "from collections import OrderedDict\n",
    "from datetime import date\n",
    "from pandas import DataFrame, ExcelWriter\n",
    "%matplotlib inline\n",
    "\n",
    "import time"
   ]
  },
  {
   "cell_type": "markdown",
   "metadata": {},
   "source": [
    "# Login on facebook"
   ]
  },
  {
   "cell_type": "code",
   "execution_count": 2,
   "metadata": {},
   "outputs": [],
   "source": [
    "# set options \n",
    "options = Options()\n",
    "options.add_argument(\"--disable-infobars\")\n",
    "options.add_argument(\"start-maximized\")\n",
    "options.add_argument(\"--disable-extensions\")\n",
    "options.add_argument(\"--disable-notifications\")\n",
    "\n",
    "# obtaining email and password\n",
    "with open('needed_files/facebook_credentials.txt', 'r') as file: # INSIRA AQUI O CAMINHO DO SEU ARQUIVO \"facebook_credentials.txt\"\n",
    "    info = file.readline().split(';')\n",
    "    EMAIL = info[0]\n",
    "    PASSWORD = info[1]\n",
    "\n",
    "# open facebook\n",
    "s = Service('needed_files/chromedriver.exe') # INSIRA AQUI O CAMINHO DO SEU ARQUIVO \"crhomedriver.exe\"\n",
    "driver = webdriver.Chrome(service=s, options=options)\n",
    "driver.get('https://touch.facebook.com')\n",
    "driver.maximize_window()\n",
    "wait = WebDriverWait(driver, 30)\n",
    "\n",
    "# insert email\n",
    "email_field = wait.until(EC.visibility_of_element_located((By.NAME, 'email')))\n",
    "email_field.send_keys(EMAIL)\n",
    "\n",
    "# insert password\n",
    "pass_field = wait.until(EC.visibility_of_element_located((By.NAME, 'pass')))\n",
    "pass_field.send_keys(PASSWORD)\n",
    "\n",
    "# login\n",
    "pass_field.send_keys(Keys.RETURN)\n",
    "time.sleep(5)\n",
    "\n",
    "# click on \"Not now\" button\n",
    "try:\n",
    "    driver.find_element(By.XPATH, \"/html/body/div[1]/div/div[2]/div/div[1]/div/div/div[3]/div[1]/div/div/a\").click()\n",
    "except:\n",
    "    None\n"
   ]
  },
  {
   "cell_type": "markdown",
   "metadata": {},
   "source": [
    "# Open selected post"
   ]
  },
  {
   "cell_type": "code",
   "execution_count": 3,
   "metadata": {},
   "outputs": [],
   "source": [
    "# Open post\n",
    "link = \"https://touch.facebook.com/fordtrucks/photos/a.140763206189/10158648790831190/\"\n",
    "driver.get(link) "
   ]
  },
  {
   "cell_type": "markdown",
   "metadata": {},
   "source": [
    "# Extract posts comments and profiles links"
   ]
  },
  {
   "cell_type": "code",
   "execution_count": 5,
   "metadata": {},
   "outputs": [],
   "source": [
    "extractedComments = []\n",
    "try:\n",
    "    Select(driver.find_element(By.TAG_NAME, \"select\")).select_by_index(index=1) # select \"All comments\" option\n",
    "except:\n",
    "    None\n",
    "time.sleep(1)\n",
    "try:\n",
    "    for reply in driver.find_elements(By.CLASS_NAME, \"_4ayk\"): # open replies\n",
    "        try:\n",
    "            reply.click()\n",
    "        except:\n",
    "            None\n",
    "except:\n",
    "    None\n",
    "\n",
    "time.sleep(1)\n",
    "\n",
    "# Extract info\n",
    "dataComments = driver.find_elements(By.CLASS_NAME, '_2b06')\n",
    "for dc in dataComments:\n",
    "    try:\n",
    "        extractedComments.append('{}'.format(dc.text.split('\\n')[1]))\n",
    "    except:\n",
    "        None"
   ]
  },
  {
   "cell_type": "markdown",
   "metadata": {},
   "source": [
    "# Save obtained info"
   ]
  },
  {
   "cell_type": "code",
   "execution_count": 6,
   "metadata": {},
   "outputs": [],
   "source": [
    "# remove duplicated\n",
    "extractedComments = list(OrderedDict.fromkeys(extractedComments))\n",
    "\n",
    "df = DataFrame(data=extractedComments, columns=['Comments'])\n",
    "\n",
    "# defining file name\n",
    "today = date.today()\n",
    "fileName = 'facebook_extracted_info_{}.xlsx'.format(today.strftime(\"%b-%d-%Y\"))\n",
    "\n",
    "with ExcelWriter(fileName, engine='xlsxwriter') as writer:\n",
    "    df.to_excel(writer,sheet_name='comments',index=False)"
   ]
  }
 ],
 "metadata": {
  "interpreter": {
   "hash": "d48975cc0f0925764d614904bdf2ceead9ed3f84b9ab9fe3059c1b950a52fa38"
  },
  "kernelspec": {
   "display_name": "Python 3.9.7 ('base')",
   "language": "python",
   "name": "python3"
  },
  "language_info": {
   "codemirror_mode": {
    "name": "ipython",
    "version": 3
   },
   "file_extension": ".py",
   "mimetype": "text/x-python",
   "name": "python",
   "nbconvert_exporter": "python",
   "pygments_lexer": "ipython3",
   "version": "3.9.7"
  }
 },
 "nbformat": 4,
 "nbformat_minor": 2
}
